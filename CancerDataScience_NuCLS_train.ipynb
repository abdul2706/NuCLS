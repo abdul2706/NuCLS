{
  "nbformat": 4,
  "nbformat_minor": 0,
  "metadata": {
    "colab": {
      "name": "CancerDataScience_NuCLS.ipynb",
      "provenance": [],
      "collapsed_sections": [],
      "toc_visible": true
    },
    "kernelspec": {
      "name": "python3",
      "display_name": "Python 3"
    },
    "language_info": {
      "name": "python"
    }
  },
  "cells": [
    {
      "cell_type": "markdown",
      "metadata": {
        "id": "BODpZHQYP69V"
      },
      "source": [
        "# Setup"
      ]
    },
    {
      "cell_type": "code",
      "metadata": {
        "id": "bqsFHYPyPxEC"
      },
      "source": [
        "!git clone \"https://github.com/abdul2706/NuCLS.git\""
      ],
      "execution_count": null,
      "outputs": []
    },
    {
      "cell_type": "code",
      "metadata": {
        "colab": {
          "base_uri": "https://localhost:8080/"
        },
        "id": "Tc1tK5W_vlls",
        "outputId": "28d8b1cb-fc1a-4bec-eb0d-3947839708f1"
      },
      "source": [
        "%cd /content/NuCLS"
      ],
      "execution_count": null,
      "outputs": []
    },
    {
      "cell_type": "code",
      "metadata": {
        "colab": {
          "base_uri": "https://localhost:8080/"
        },
        "id": "gkKjbEF3QDxr",
        "outputId": "59d743f4-a760-4a99-9476-94edb174375c"
      },
      "source": [
        "!pwd"
      ],
      "execution_count": null,
      "outputs": []
    },
    {
      "cell_type": "markdown",
      "metadata": {
        "id": "lRQtE5c8_o9K"
      },
      "source": [
        "## Make Necessary Directories"
      ]
    },
    {
      "cell_type": "code",
      "metadata": {
        "id": "MFzp5EX3hXmF"
      },
      "source": [
        "!mkdir \"/content/NuCLS/data/tcga-nucleus/v4_2020-04-05_FINAL_CORE/CORE_SET/\"\n",
        "!mkdir \"/content/NuCLS/data/tcga-nucleus/v4_2020-04-05_FINAL_CORE/CORE_SET/QC/\"\n",
        "!mkdir \"/content/NuCLS/results/\"\n",
        "!mkdir \"/content/NuCLS/results/tcga-nucleus/\"\n",
        "!mkdir \"/content/NuCLS/results/tcga-nucleus/models/\"\n",
        "!mkdir \"/content/NuCLS/results/tcga-nucleus/models/v4_2020-04-05_FINAL_CORE_QC/\""
      ],
      "execution_count": null,
      "outputs": []
    },
    {
      "cell_type": "markdown",
      "metadata": {
        "id": "YIkv4HRx_l5C"
      },
      "source": [
        "## Install Packages"
      ]
    },
    {
      "cell_type": "code",
      "metadata": {
        "id": "9u4p6Nl3ReyF"
      },
      "source": [
        "!pip install gitpython\n",
        "!pip install histomicstk --find-links https://girder.github.io/large_image_wheels"
      ],
      "execution_count": null,
      "outputs": []
    },
    {
      "cell_type": "markdown",
      "metadata": {
        "id": "DWC0qCGY_0ZD"
      },
      "source": [
        "# Download and Unzip Dataset"
      ]
    },
    {
      "cell_type": "code",
      "metadata": {
        "id": "PChEgABEumIK",
        "colab": {
          "base_uri": "https://localhost:8080/"
        },
        "outputId": "822c8aa9-a1d9-40e5-a477-517c7d96fad3"
      },
      "source": [
        "!gdown --id \"1k350VQeegN5hMxRK9Vpc65fdLe3wsqYy\""
      ],
      "execution_count": null,
      "outputs": []
    },
    {
      "cell_type": "code",
      "metadata": {
        "id": "Ok28Kel7g-ef"
      },
      "source": [
        "!unzip \"QC.zip\" -d \"/content/NuCLS/data/tcga-nucleus/v4_2020-04-05_FINAL_CORE/CORE_SET/\" &> /dev/null"
      ],
      "execution_count": null,
      "outputs": []
    },
    {
      "cell_type": "code",
      "metadata": {
        "id": "3v6-mrcAqviu"
      },
      "source": [
        "!ls \"/content/NuCLS/data/tcga-nucleus/v4_2020-04-05_FINAL_CORE/CORE_SET/QC/csv\" -1 | wc -l\n",
        "!ls \"/content/NuCLS/data/tcga-nucleus/v4_2020-04-05_FINAL_CORE/CORE_SET/QC/mask\" -1 | wc -l\n",
        "!ls \"/content/NuCLS/data/tcga-nucleus/v4_2020-04-05_FINAL_CORE/CORE_SET/QC/rgbs\" -1 | wc -l\n",
        "!ls \"/content/NuCLS/data/tcga-nucleus/v4_2020-04-05_FINAL_CORE/CORE_SET/QC/rgbs_colorNormalized\" -1 | wc -l\n",
        "!ls \"/content/NuCLS/data/tcga-nucleus/v4_2020-04-05_FINAL_CORE/CORE_SET/QC/train_test_splits\" -1 | wc -l"
      ],
      "execution_count": null,
      "outputs": []
    },
    {
      "cell_type": "code",
      "metadata": {
        "id": "2pdl9y8SqrQr"
      },
      "source": [
        "!rm -rf \"QC.zip\""
      ],
      "execution_count": null,
      "outputs": []
    },
    {
      "cell_type": "markdown",
      "metadata": {
        "id": "fX8QVeK5_8Ti"
      },
      "source": [
        "# Training"
      ]
    },
    {
      "cell_type": "code",
      "metadata": {
        "colab": {
          "base_uri": "https://localhost:8080/"
        },
        "id": "Xw-tV0kpZofD",
        "outputId": "72f87471-06e6-4425-ca98-c17dd6133a03"
      },
      "source": [
        "import sys\n",
        "import os\n",
        "from os.path import join as opj\n",
        "import argparse\n",
        "from pprint import pprint\n",
        "\n",
        "parser = argparse.ArgumentParser(description='Train nucleus model.')\n",
        "parser.add_argument('-f', type=int, default=[1], nargs='+', help='fold(s) to run')\n",
        "parser.add_argument('-g', type=int, default=[0], nargs='+', help='gpu(s) to use')\n",
        "parser.add_argument('--qcd', type=int, default=1, help='use QCd data for training?')\n",
        "parser.add_argument('--train', type=int, default=1, help='train?')\n",
        "parser.add_argument('--vistest', type=int, default=1, help='visualize results on testing?')\n",
        "args = parser.parse_args(['-f', '1', '-g', '0'])\n",
        "args.qcd = bool(args.qcd)\n",
        "args.train = bool(args.train)\n",
        "args.vistest = bool(args.vistest)\n",
        "\n",
        "# GPU allocation MUST happen before importing other modules\n",
        "from GeneralUtils import save_configs, maybe_mkdir, AllocateGPU\n",
        "# AllocateGPU(GPUs_to_use=args.g)\n",
        "\n",
        "from nucls_model.MiscUtils import load_saved_otherwise_default_model_configs\n",
        "from configs.nucleus_model_configs import CoreSetQC, CoreSetNoQC\n",
        "from nucls_model.NucleusWorkflows import run_one_maskrcnn_fold"
      ],
      "execution_count": null,
      "outputs": []
    },
    {
      "cell_type": "code",
      "metadata": {
        "colab": {
          "base_uri": "https://localhost:8080/"
        },
        "id": "2O1TcKW-P5zw",
        "outputId": "463e4867-45ed-4122-db46-c552c7e5bdfe"
      },
      "source": [
        "# %%===========================================================================\n",
        "# Configs\n",
        "\n",
        "TAG = '[train.py]'\n",
        "BASEPATH = os.path.realpath('.')\n",
        "print(TAG, '[BASEPATH]', BASEPATH)\n",
        "model_name = '002_MaskRCNN_tmp'\n",
        "dataset_name = CoreSetQC.dataset_name if args.qcd else CoreSetNoQC.dataset_name\n",
        "all_models_root = opj(BASEPATH, 'results', 'tcga-nucleus', 'models', f'{dataset_name}')\n",
        "print(TAG, '[all_models_root]', all_models_root)\n",
        "model_root = opj(all_models_root, model_name)\n",
        "maybe_mkdir(model_root)\n",
        "\n",
        "# load configs\n",
        "configs_path = opj(model_root, 'nucleus_model_configs.py')\n",
        "cfg = load_saved_otherwise_default_model_configs(configs_path=configs_path)\n",
        "\n",
        "# for reproducibility, copy configs & most relevant code file to results\n",
        "# if not os.path.exists(configs_path):\n",
        "#     save_configs(configs_path=opj(BASEPATH, 'configs', 'nucleus_model_configs.py'), results_path=model_root)\n",
        "# save_configs(configs_path=os.path.abspath(__file__), results_path=model_root, warn=False)\n",
        "# save_configs(configs_path=opj(BASEPATH, 'nucls_model', 'NucleusWorkflows.py'), results_path=model_root, warn=False)\n",
        "\n",
        "print(TAG, '[cfg]')\n",
        "pprint(cfg)\n"
      ],
      "execution_count": null,
      "outputs": []
    },
    {
      "cell_type": "code",
      "metadata": {
        "id": "WzrArjSmdlIl",
        "colab": {
          "base_uri": "https://localhost:8080/"
        },
        "outputId": "fc387ce1-71d7-410a-c752-6e0ac14d6575"
      },
      "source": [
        "# %%===========================================================================\n",
        "# Now run\n",
        "\n",
        "for fold in args.f:\n",
        "    run_one_maskrcnn_fold(\n",
        "        fold=fold, cfg=cfg, model_root=model_root, model_name=model_name,\n",
        "        qcd_training=args.qcd, train=args.train, vis_test=args.vistest)\n"
      ],
      "execution_count": null,
      "outputs": []
    },
    {
      "cell_type": "code",
      "metadata": {
        "id": "YmkeLBBEtI7e"
      },
      "source": [],
      "execution_count": null,
      "outputs": []
    }
  ]
}