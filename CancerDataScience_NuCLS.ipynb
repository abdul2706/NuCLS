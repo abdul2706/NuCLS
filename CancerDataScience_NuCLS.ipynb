{
  "nbformat": 4,
  "nbformat_minor": 0,
  "metadata": {
    "colab": {
      "name": "CancerDataScience_NuCLS.ipynb",
      "provenance": [],
      "collapsed_sections": [
        "igkn5fBCEU1Q",
        "M7AiVnt3Exfv",
        "Nod7Fu8e6f7G",
        "SiWA3FT8Br90"
      ]
    },
    "kernelspec": {
      "display_name": "Python 3",
      "name": "python3"
    },
    "language_info": {
      "name": "python"
    },
    "accelerator": "GPU"
  },
  "cells": [
    {
      "cell_type": "markdown",
      "metadata": {
        "id": "BODpZHQYP69V"
      },
      "source": [
        "# Setup"
      ]
    },
    {
      "cell_type": "code",
      "metadata": {
        "id": "Gx1hSQJ2q8H8"
      },
      "source": [
        "from google.colab import drive\n",
        "drive.mount('/content/drive')"
      ],
      "execution_count": null,
      "outputs": []
    },
    {
      "cell_type": "code",
      "metadata": {
        "id": "TJV6i7sqrWaE"
      },
      "source": [
        "!nvidia-smi"
      ],
      "execution_count": null,
      "outputs": []
    },
    {
      "cell_type": "markdown",
      "metadata": {
        "id": "igkn5fBCEU1Q"
      },
      "source": [
        "## Create zip to move to other drive"
      ]
    },
    {
      "cell_type": "code",
      "metadata": {
        "id": "dK76KXtFEdfP"
      },
      "source": [
        "%cd \"/content/drive/MyDrive/0-FYP/codes/mmdetection-stuff/work_dir_NuCLS/\""
      ],
      "execution_count": null,
      "outputs": []
    },
    {
      "cell_type": "code",
      "metadata": {
        "id": "MdGffc47_WrC"
      },
      "source": [
        "!zip -r \"maskrcnn_lymphocytenet3_cm3_18.zip\" \"maskrcnn_lymphocytenet3_cm3_18/\""
      ],
      "execution_count": null,
      "outputs": []
    },
    {
      "cell_type": "markdown",
      "metadata": {
        "id": "M7AiVnt3Exfv"
      },
      "source": [
        "## Create working dir and download zip"
      ]
    },
    {
      "cell_type": "code",
      "metadata": {
        "id": "D7YR5UwNGJwV"
      },
      "source": [
        "%cd \"/content\""
      ],
      "execution_count": null,
      "outputs": []
    },
    {
      "cell_type": "code",
      "metadata": {
        "id": "tfLUCH8jBugN"
      },
      "source": [
        "!mkdir \"/content/drive/MyDrive/0-FYP/codes/mmdetection-stuff/work_dir_NuCLS\""
      ],
      "execution_count": null,
      "outputs": []
    },
    {
      "cell_type": "code",
      "metadata": {
        "id": "3j5SX7prB0V6"
      },
      "source": [
        "!gdown --id \"1-6TVU4glmtvVXLv8ApStWBZA34SFU0Hw\" -O \"maskrcnn_stm_renet2.zip\""
      ],
      "execution_count": null,
      "outputs": []
    },
    {
      "cell_type": "code",
      "metadata": {
        "id": "IgL74bO5CTfP"
      },
      "source": [
        "!unzip \"maskrcnn_stm_renet2.zip\" -d \"/content/drive/MyDrive/0-FYP/codes/mmdetection-stuff/work_dir_NuCLS/\""
      ],
      "execution_count": null,
      "outputs": []
    },
    {
      "cell_type": "markdown",
      "metadata": {
        "id": "fBnJ-KqfGTyb"
      },
      "source": [
        "## Setup Github Repo"
      ]
    },
    {
      "cell_type": "code",
      "metadata": {
        "id": "bqsFHYPyPxEC"
      },
      "source": [
        "%cd \"/content\"\n",
        "!rm -rf NuCLS\n",
        "!git clone \"https://github.com/abdul2706/NuCLS.git\""
      ],
      "execution_count": null,
      "outputs": []
    },
    {
      "cell_type": "code",
      "metadata": {
        "id": "Tc1tK5W_vlls"
      },
      "source": [
        "%cd /content/NuCLS"
      ],
      "execution_count": null,
      "outputs": []
    },
    {
      "cell_type": "code",
      "metadata": {
        "id": "gkKjbEF3QDxr"
      },
      "source": [
        "!pwd"
      ],
      "execution_count": null,
      "outputs": []
    },
    {
      "cell_type": "markdown",
      "metadata": {
        "id": "lRQtE5c8_o9K"
      },
      "source": [
        "## Make Necessary Directories"
      ]
    },
    {
      "cell_type": "code",
      "metadata": {
        "id": "MFzp5EX3hXmF"
      },
      "source": [
        "!mkdir \"/content/NuCLS/data/tcga-nucleus/v4_2020-04-05_FINAL_CORE/CORE_SET/\"\n",
        "!mkdir \"/content/NuCLS/data/tcga-nucleus/v4_2020-04-05_FINAL_CORE/CORE_SET/QC/\"\n",
        "!mkdir \"/content/NuCLS/results/\"\n",
        "!mkdir \"/content/NuCLS/results/tcga-nucleus/\"\n",
        "!mkdir \"/content/NuCLS/results/tcga-nucleus/models/\"\n",
        "!mkdir \"/content/NuCLS/results/tcga-nucleus/models/v4_2020-04-05_FINAL_CORE_QC/\""
      ],
      "execution_count": null,
      "outputs": []
    },
    {
      "cell_type": "markdown",
      "metadata": {
        "id": "YIkv4HRx_l5C"
      },
      "source": [
        "## Install Packages"
      ]
    },
    {
      "cell_type": "code",
      "metadata": {
        "id": "UwVB2zNlqwjp"
      },
      "source": [
        "!pip show torchvision torch"
      ],
      "execution_count": null,
      "outputs": []
    },
    {
      "cell_type": "code",
      "metadata": {
        "id": "9u4p6Nl3ReyF"
      },
      "source": [
        "!pip install gitpython\n",
        "!pip install histomicstk --find-links https://girder.github.io/large_image_wheels\n",
        "!pip install torch==1.8.0+cu111 torchvision==0.9.0+cu111 torchaudio==0.8.0 -f https://download.pytorch.org/whl/torch_stable.html"
      ],
      "execution_count": null,
      "outputs": []
    },
    {
      "cell_type": "markdown",
      "metadata": {
        "id": "Nod7Fu8e6f7G"
      },
      "source": [
        "# Versions"
      ]
    },
    {
      "cell_type": "code",
      "metadata": {
        "id": "05TARMoV6bQU"
      },
      "source": [
        "# cpu\n",
        "!python --version\n",
        "!pip --version"
      ],
      "execution_count": null,
      "outputs": []
    },
    {
      "cell_type": "code",
      "metadata": {
        "id": "fDi1JFPf8zOq"
      },
      "source": [
        "# library               system          colab\n",
        "# python                3.7.3           3.7.10\n",
        "# pip                   21.1.2          19.3.1\n",
        "# numpy                 1.17.5          1.19.5\n",
        "# openslide-python      1.1.2           1.1.2\n",
        "# torch                 1.7.0           1.8.1\n",
        "# histomicstk                           1.1.0"
      ],
      "execution_count": null,
      "outputs": []
    },
    {
      "cell_type": "code",
      "metadata": {
        "id": "n_KlY5eb54S3"
      },
      "source": [
        "# cpu\n",
        "!pip freeze"
      ],
      "execution_count": null,
      "outputs": []
    },
    {
      "cell_type": "markdown",
      "metadata": {
        "id": "DWC0qCGY_0ZD"
      },
      "source": [
        "# Download and Unzip Dataset"
      ]
    },
    {
      "cell_type": "code",
      "metadata": {
        "id": "PChEgABEumIK"
      },
      "source": [
        "!gdown --id \"1k350VQeegN5hMxRK9Vpc65fdLe3wsqYy\""
      ],
      "execution_count": null,
      "outputs": []
    },
    {
      "cell_type": "code",
      "metadata": {
        "id": "Ok28Kel7g-ef"
      },
      "source": [
        "!rm -rf \"/content/NuCLS/data/tcga-nucleus/v4_2020-04-05_FINAL_CORE/CORE_SET/QC/\"\n",
        "!unzip \"QC.zip\" -d \"/content/NuCLS/data/tcga-nucleus/v4_2020-04-05_FINAL_CORE/CORE_SET/\" &> /dev/null"
      ],
      "execution_count": null,
      "outputs": []
    },
    {
      "cell_type": "code",
      "metadata": {
        "id": "3v6-mrcAqviu"
      },
      "source": [
        "!ls \"/content/NuCLS/data/tcga-nucleus/v4_2020-04-05_FINAL_CORE/CORE_SET/QC/csv\" -1 | wc -l\n",
        "!ls \"/content/NuCLS/data/tcga-nucleus/v4_2020-04-05_FINAL_CORE/CORE_SET/QC/mask\" -1 | wc -l\n",
        "!ls \"/content/NuCLS/data/tcga-nucleus/v4_2020-04-05_FINAL_CORE/CORE_SET/QC/rgbs\" -1 | wc -l\n",
        "!ls \"/content/NuCLS/data/tcga-nucleus/v4_2020-04-05_FINAL_CORE/CORE_SET/QC/rgbs_colorNormalized\" -1 | wc -l\n",
        "!ls \"/content/NuCLS/data/tcga-nucleus/v4_2020-04-05_FINAL_CORE/CORE_SET/QC/train_test_splits\" -1 | wc -l"
      ],
      "execution_count": null,
      "outputs": []
    },
    {
      "cell_type": "code",
      "metadata": {
        "id": "2pdl9y8SqrQr"
      },
      "source": [
        "!rm -rf \"QC.zip\""
      ],
      "execution_count": null,
      "outputs": []
    },
    {
      "cell_type": "markdown",
      "metadata": {
        "id": "fX8QVeK5_8Ti"
      },
      "source": [
        "# Training"
      ]
    },
    {
      "cell_type": "code",
      "metadata": {
        "id": "Xw-tV0kpZofD"
      },
      "source": [
        "import sys\n",
        "import os\n",
        "from os.path import join as opj\n",
        "import argparse\n",
        "from pprint import pprint\n",
        "\n",
        "# GPU allocation MUST happen before importing other modules\n",
        "from GeneralUtils import save_configs, maybe_mkdir, AllocateGPU\n",
        "# AllocateGPU(GPUs_to_use=args.g)\n",
        "\n",
        "from nucls_model.MiscUtils import load_saved_otherwise_default_model_configs\n",
        "from configs.nucleus_model_configs import CoreSetQC, CoreSetNoQC\n",
        "from nucls_model.NucleusWorkflows import run_one_maskrcnn_fold\n",
        "# from nucls_model.backbones import *\n"
      ],
      "execution_count": null,
      "outputs": []
    },
    {
      "cell_type": "code",
      "metadata": {
        "id": "j7gg1oWnj4X0"
      },
      "source": [
        "parser = argparse.ArgumentParser(description='Train nucleus model.')\n",
        "parser.add_argument('-f', type=int, default=[1], nargs='+', help='fold(s) to run')\n",
        "parser.add_argument('-g', type=int, default=[0], nargs='+', help='gpu(s) to use')\n",
        "parser.add_argument('--qcd', type=int, default=1, help='use QCd data for training?')\n",
        "parser.add_argument('--train', type=int, default=1, help='train?')\n",
        "parser.add_argument('--vistest', type=int, default=1, help='visualize results on testing?')\n",
        "args = parser.parse_args(['-f', '1', '-g', '0'])\n",
        "args.qcd = bool(args.qcd)\n",
        "args.train = bool(args.train)\n",
        "args.vistest = bool(args.vistest)\n"
      ],
      "execution_count": null,
      "outputs": []
    },
    {
      "cell_type": "code",
      "metadata": {
        "id": "2O1TcKW-P5zw"
      },
      "source": [
        "TAG = '[train.py]'\n",
        "BASEPATH = '/content/drive/MyDrive/0-FYP/codes/mmdetection-stuff/work_dir_NuCLS'\n",
        "print(TAG, '[BASEPATH]', BASEPATH)\n",
        "# model_name = 'maskrcnn_lymphocytenet3_cm3_18'\n",
        "# model_name = 'maskrcnn_resnet_cbam_18'\n",
        "# model_name = 'maskrcnn_lymphocytenet3_cm1_18_s2'\n",
        "model_name = 'maskrcnn_lymphocytenet3_cb1_18_s2'\n",
        "# model_name = 'maskrcnn_stm_renet2'\n",
        "dataset_name = CoreSetQC.dataset_name if args.qcd else CoreSetNoQC.dataset_name\n",
        "all_models_root = BASEPATH\n",
        "print(TAG, '[all_models_root]', all_models_root)\n",
        "model_root = opj(all_models_root, model_name)\n",
        "print(TAG, '[model_root]', model_root)\n",
        "maybe_mkdir(model_root)\n",
        "\n",
        "# load configs\n",
        "configs_path = opj(model_root, 'nucleus_model_configs.py')\n",
        "cfg = load_saved_otherwise_default_model_configs(configs_path=configs_path)\n",
        "\n",
        "print(TAG, '[cfg]')\n",
        "pprint(cfg)\n"
      ],
      "execution_count": null,
      "outputs": []
    },
    {
      "cell_type": "code",
      "metadata": {
        "id": "WzrArjSmdlIl"
      },
      "source": [
        "!CUDA_LAUNCH_BLOCKING=1\n",
        "\n",
        "# for fold in args.f:\n",
        "run_one_maskrcnn_fold(\n",
        "    fold=1, cfg=cfg, model_root=model_root, model_name=model_name,\n",
        "    qcd_training=args.qcd, train=args.train, vis_test=args.vistest)\n"
      ],
      "execution_count": null,
      "outputs": []
    },
    {
      "cell_type": "markdown",
      "metadata": {
        "id": "Jap4Uno-JyUy"
      },
      "source": [
        "Only For Debugging"
      ]
    },
    {
      "cell_type": "code",
      "metadata": {
        "id": "etzfYIFhHjQb"
      },
      "source": [
        "%cd /content/NuCLS"
      ],
      "execution_count": null,
      "outputs": []
    },
    {
      "cell_type": "code",
      "metadata": {
        "id": "fz-oFvCJEqCT"
      },
      "source": [
        "import torch\n",
        "from nucls_model.backbones import LymphocyteNet3_CB1\n",
        "x = torch.rand((2, 3, 224, 224))\n",
        "print(f'x.shape -> {x.shape}')\n",
        "model = LymphocyteNet3_CB1(depth=18, use_dropout=False, pretrained=False, conv_type='pooling', debug=True)\n",
        "print(model)\n",
        "model.eval()\n",
        "y = model(x)\n",
        "for i, level in enumerate(y):\n",
        "    print(f'level{i} -> {y[i].shape}')\n"
      ],
      "execution_count": null,
      "outputs": []
    },
    {
      "cell_type": "markdown",
      "metadata": {
        "id": "SiWA3FT8Br90"
      },
      "source": [
        "# Extra Stuff"
      ]
    },
    {
      "cell_type": "code",
      "metadata": {
        "id": "6bu3sND1BAEd"
      },
      "source": [
        "import pandas as pd\n",
        "category_weights = pd.read_csv('train_dataset-category_weights.csv')\n",
        "print(category_weights.category_weights.sum())"
      ],
      "execution_count": null,
      "outputs": []
    },
    {
      "cell_type": "code",
      "metadata": {
        "id": "8CFnDDkNBaT8"
      },
      "source": [
        "import pandas as pd\n",
        "fov_weights = pd.read_csv('train_dataset-fov_weights.csv')\n",
        "print(fov_weights.fov_weights.sum())"
      ],
      "execution_count": null,
      "outputs": []
    },
    {
      "cell_type": "code",
      "metadata": {
        "id": "YmkeLBBEtI7e"
      },
      "source": [
        "!nvidia-smi"
      ],
      "execution_count": null,
      "outputs": []
    },
    {
      "cell_type": "code",
      "metadata": {
        "id": "WbKKsHXddogi"
      },
      "source": [
        "from nucls_model.MaskRCNN import MaskRCNN\n",
        "model = MaskRCNN(**cfg.MaskRCNNConfigs.maskrcnn_params)"
      ],
      "execution_count": null,
      "outputs": []
    },
    {
      "cell_type": "code",
      "metadata": {
        "id": "E6jeJVi3d4ud"
      },
      "source": [
        "model"
      ],
      "execution_count": null,
      "outputs": []
    },
    {
      "cell_type": "code",
      "metadata": {
        "id": "kcxC9HYwgaXu"
      },
      "source": [
        "import torch\n",
        "model.eval()\n",
        "# x = [torch.rand(3, 300, 400), torch.rand(3, 500, 400)]\n",
        "x = [torch.rand(3, 700, 700)]\n",
        "predictions = model(x)\n",
        "print(predictions)"
      ],
      "execution_count": null,
      "outputs": []
    },
    {
      "cell_type": "code",
      "metadata": {
        "id": "gjSsCsW5jfyW"
      },
      "source": [
        "from torchvision.models import resnet18\n",
        "from torch.nn import Sequential"
      ],
      "execution_count": null,
      "outputs": []
    },
    {
      "cell_type": "code",
      "metadata": {
        "id": "50LA9_UKovoK"
      },
      "source": [
        "resnet = resnet18(pretrained=False)\n",
        "backbone = Sequential(resnet.conv1, resnet.bn1, resnet.relu, resnet.maxpool, \n",
        "                      resnet.layer1, resnet.layer2, resnet.layer3, resnet.layer4)"
      ],
      "execution_count": null,
      "outputs": []
    },
    {
      "cell_type": "code",
      "metadata": {
        "id": "23doBdQ0o_6t"
      },
      "source": [
        "x = torch.rand(1, 3, 1216, 1216)\n",
        "y = backbone(x)"
      ],
      "execution_count": null,
      "outputs": []
    },
    {
      "cell_type": "code",
      "metadata": {
        "id": "yfBLikD5pESR"
      },
      "source": [
        "y.shape"
      ],
      "execution_count": null,
      "outputs": []
    },
    {
      "cell_type": "code",
      "metadata": {
        "id": "-dht_7OKprhL"
      },
      "source": [
        "import torch\n",
        "import torch.nn as nn\n",
        "from torch.autograd import Variable\n",
        "import numpy as np\n",
        "\n",
        "class SizeEstimator(object):\n",
        "\n",
        "    def __init__(self, model, input_size=(1,1,32,32), bits=32):\n",
        "        '''\n",
        "        Estimates the size of PyTorch models in memory\n",
        "        for a given input size\n",
        "        '''\n",
        "        self.model = model\n",
        "        self.input_size = input_size\n",
        "        self.bits = bits\n",
        "        return\n",
        "\n",
        "    def get_parameter_sizes(self):\n",
        "        '''Get sizes of all parameters in `model`'''\n",
        "        mods = list(self.model.modules())\n",
        "        sizes = []\n",
        "        \n",
        "        for i in range(1,len(mods)):\n",
        "            m = mods[i]\n",
        "            p = list(m.parameters())\n",
        "            for j in range(len(p)):\n",
        "                sizes.append(np.array(p[j].size()))\n",
        "\n",
        "        self.param_sizes = sizes\n",
        "        return\n",
        "\n",
        "    def get_output_sizes(self):\n",
        "        '''Run sample input through each layer to get output sizes'''\n",
        "        input_ = Variable(torch.FloatTensor(*self.input_size), volatile=True)\n",
        "        mods = list(self.model.modules())\n",
        "        out_sizes = []\n",
        "        for i in range(1, len(mods)):\n",
        "            m = mods[i]\n",
        "            out = m(input_)\n",
        "            out_sizes.append(np.array(out.size()))\n",
        "            input_ = out\n",
        "\n",
        "        self.out_sizes = out_sizes\n",
        "        return\n",
        "\n",
        "    def calc_param_bits(self):\n",
        "        '''Calculate total number of bits to store `model` parameters'''\n",
        "        total_bits = 0\n",
        "        for i in range(len(self.param_sizes)):\n",
        "            s = self.param_sizes[i]\n",
        "            bits = np.prod(np.array(s))*self.bits\n",
        "            total_bits += bits\n",
        "        self.param_bits = total_bits\n",
        "        return\n",
        "\n",
        "    def calc_forward_backward_bits(self):\n",
        "        '''Calculate bits to store forward and backward pass'''\n",
        "        total_bits = 0\n",
        "        for i in range(len(self.out_sizes)):\n",
        "            s = self.out_sizes[i]\n",
        "            bits = np.prod(np.array(s))*self.bits\n",
        "            total_bits += bits\n",
        "        # multiply by 2 for both forward AND backward\n",
        "        self.forward_backward_bits = (total_bits*2)\n",
        "        return\n",
        "\n",
        "    def calc_input_bits(self):\n",
        "        '''Calculate bits to store input'''\n",
        "        self.input_bits = np.prod(np.array(self.input_size))*self.bits\n",
        "        return\n",
        "\n",
        "    def estimate_size(self):\n",
        "        '''Estimate model size in memory in megabytes and bits'''\n",
        "        self.get_parameter_sizes()\n",
        "        # self.get_output_sizes()\n",
        "        self.calc_param_bits()\n",
        "        # self.calc_forward_backward_bits()\n",
        "        # self.calc_input_bits()\n",
        "        # total = self.param_bits + self.forward_backward_bits + self.input_bits\n",
        "        total = self.param_bits\n",
        "\n",
        "        total_megabytes = (total/8)/(1024**2)\n",
        "        return total_megabytes, total\n",
        "        # return self.param_bits\n"
      ],
      "execution_count": null,
      "outputs": []
    },
    {
      "cell_type": "code",
      "metadata": {
        "id": "SLZqGf8eywrs"
      },
      "source": [
        "se = SizeEstimator(model, input_size=(1, 3, 300, 300))\n",
        "print(se.estimate_size())"
      ],
      "execution_count": null,
      "outputs": []
    },
    {
      "cell_type": "code",
      "metadata": {
        "id": "zf-r9sWpzRB1"
      },
      "source": [
        ""
      ],
      "execution_count": null,
      "outputs": []
    }
  ]
}